{
 "cells": [
  {
   "cell_type": "markdown",
   "metadata": {},
   "source": [
    "# DivineVision: A Dataset for God Image Classification\n",
    "\n",
    "Total Categories: 20 \n",
    "\n",
    "Images per Category: 50\n",
    "\n",
    "Metadata Included: Image URL, Filename, Resolution\n",
    "\n",
    "Source: Bing Image Search\n",
    "\n",
    "The dataset is structured into labeled folders, each representing a deity. Each image is stored along with metadata detailing its source and resolution."
   ]
  },
  {
   "cell_type": "code",
   "execution_count": null,
   "metadata": {},
   "outputs": [],
   "source": [
    "categories = [\"Ganesha God\", \"Krishna God\", \"Shiva God\", \"Hanuman God\", \"Ram God\", \"Balaji (Venkateswara) God\", \"Jagannath God\", \"Ayyappa God\", \"Kartikeya (Murugan) God\", \"Nataraja God\", \"Dattatreya God\", \"Bhairava God\", \"Raghavendra Swami God\", \"Sai Baba God\", \"Vishwakarma God\", \"Durga Goddess\", \"Kali Goddess\", \"Lakshmi Goddess\", \"Saraswati Goddess\", \"Meenakshi Goddess\"]"
   ]
  },
  {
   "cell_type": "code",
   "execution_count": 2,
   "metadata": {},
   "outputs": [],
   "source": [
    "\n",
    "# %pip install windows-curses"
   ]
  },
  {
   "cell_type": "code",
   "execution_count": 3,
   "metadata": {},
   "outputs": [],
   "source": [
    "# %pip install bing-image-downloader"
   ]
  },
  {
   "cell_type": "code",
   "execution_count": null,
   "metadata": {},
   "outputs": [],
   "source": [
    "from bing_image_downloader import downloader\n",
    "import os\n",
    "import csv\n",
    "import re\n",
    "from PIL import Image\n",
    "\n",
    "def download_images(category, num_images):\n",
    "    output_dir = f'DivineVision/{category}'\n",
    "    os.makedirs(output_dir, exist_ok=True)\n",
    "\n",
    "    # Capture download log\n",
    "    log_file = f\"{output_dir}/download_log.txt\"\n",
    "    with open(log_file, \"w\") as log:\n",
    "        import sys\n",
    "        original_stdout = sys.stdout\n",
    "        sys.stdout = log\n",
    "\n",
    "        # Download images\n",
    "        downloader.download(category, limit=num_images, output_dir='DivineVision',\n",
    "                            adult_filter_off=True, force_replace=False, timeout=60)\n",
    "\n",
    "        # Reset stdout\n",
    "        sys.stdout = original_stdout\n",
    "\n",
    "    return log_file, output_dir\n"
   ]
  },
  {
   "cell_type": "code",
   "execution_count": 5,
   "metadata": {},
   "outputs": [],
   "source": [
    "\n",
    "def extract_urls(log_file):\n",
    "    urls = []\n",
    "    with open(log_file, \"r\") as log:\n",
    "        for line in log:\n",
    "            match = re.search(r\"Downloading Image #\\d+ from (.+)\", line)\n",
    "            if match:\n",
    "                urls.append(match.group(1))\n",
    "    return urls\n"
   ]
  },
  {
   "cell_type": "code",
   "execution_count": 6,
   "metadata": {},
   "outputs": [
    {
     "name": "stdout",
     "output_type": "stream",
     "text": [
      "Dataset/Ganesha God/download_log.txt\n",
      "---------------------\n",
      "Error processing Dataset/Ganesha God\\download_log.txt: cannot identify image file 'D:\\\\imp files own\\\\6 th sem\\\\mmdp\\\\Assignment\\\\Dataset\\\\Ganesha God\\\\download_log.txt'\n",
      "Dataset/Krishna God/download_log.txt\n",
      "---------------------\n",
      "Error processing Dataset/Krishna God\\download_log.txt: cannot identify image file 'D:\\\\imp files own\\\\6 th sem\\\\mmdp\\\\Assignment\\\\Dataset\\\\Krishna God\\\\download_log.txt'\n",
      "Dataset/Shiva God/download_log.txt\n",
      "---------------------\n",
      "Error processing Dataset/Shiva God\\download_log.txt: cannot identify image file 'D:\\\\imp files own\\\\6 th sem\\\\mmdp\\\\Assignment\\\\Dataset\\\\Shiva God\\\\download_log.txt'\n",
      "Dataset/Hanuman God/download_log.txt\n",
      "---------------------\n",
      "Error processing Dataset/Hanuman God\\download_log.txt: cannot identify image file 'D:\\\\imp files own\\\\6 th sem\\\\mmdp\\\\Assignment\\\\Dataset\\\\Hanuman God\\\\download_log.txt'\n",
      "Dataset/Ram God/download_log.txt\n",
      "---------------------\n",
      "Error processing Dataset/Ram God\\download_log.txt: cannot identify image file 'D:\\\\imp files own\\\\6 th sem\\\\mmdp\\\\Assignment\\\\Dataset\\\\Ram God\\\\download_log.txt'\n",
      "Dataset/Balaji (Venkateswara) God/download_log.txt\n",
      "---------------------\n",
      "Error processing Dataset/Balaji (Venkateswara) God\\download_log.txt: cannot identify image file 'D:\\\\imp files own\\\\6 th sem\\\\mmdp\\\\Assignment\\\\Dataset\\\\Balaji (Venkateswara) God\\\\download_log.txt'\n",
      "Dataset/Jagannath God/download_log.txt\n",
      "---------------------\n",
      "Error processing Dataset/Jagannath God\\download_log.txt: cannot identify image file 'D:\\\\imp files own\\\\6 th sem\\\\mmdp\\\\Assignment\\\\Dataset\\\\Jagannath God\\\\download_log.txt'\n",
      "Dataset/Ayyappa God/download_log.txt\n",
      "---------------------\n",
      "Error processing Dataset/Ayyappa God\\download_log.txt: cannot identify image file 'D:\\\\imp files own\\\\6 th sem\\\\mmdp\\\\Assignment\\\\Dataset\\\\Ayyappa God\\\\download_log.txt'\n",
      "Dataset/Kartikeya (Murugan) God/download_log.txt\n",
      "---------------------\n",
      "Error processing Dataset/Kartikeya (Murugan) God\\download_log.txt: cannot identify image file 'D:\\\\imp files own\\\\6 th sem\\\\mmdp\\\\Assignment\\\\Dataset\\\\Kartikeya (Murugan) God\\\\download_log.txt'\n",
      "Dataset/Nataraja God/download_log.txt\n",
      "---------------------\n",
      "Error processing Dataset/Nataraja God\\download_log.txt: cannot identify image file 'D:\\\\imp files own\\\\6 th sem\\\\mmdp\\\\Assignment\\\\Dataset\\\\Nataraja God\\\\download_log.txt'\n",
      "Dataset/Dattatreya God/download_log.txt\n",
      "---------------------\n",
      "Error processing Dataset/Dattatreya God\\download_log.txt: cannot identify image file 'D:\\\\imp files own\\\\6 th sem\\\\mmdp\\\\Assignment\\\\Dataset\\\\Dattatreya God\\\\download_log.txt'\n",
      "Dataset/Bhairava God/download_log.txt\n",
      "---------------------\n",
      "Error processing Dataset/Bhairava God\\download_log.txt: cannot identify image file 'D:\\\\imp files own\\\\6 th sem\\\\mmdp\\\\Assignment\\\\Dataset\\\\Bhairava God\\\\download_log.txt'\n",
      "Dataset/Raghavendra Swami God/download_log.txt\n",
      "---------------------\n",
      "Error processing Dataset/Raghavendra Swami God\\download_log.txt: cannot identify image file 'D:\\\\imp files own\\\\6 th sem\\\\mmdp\\\\Assignment\\\\Dataset\\\\Raghavendra Swami God\\\\download_log.txt'\n",
      "Dataset/Sai Baba God/download_log.txt\n",
      "---------------------\n",
      "Error processing Dataset/Sai Baba God\\download_log.txt: cannot identify image file 'D:\\\\imp files own\\\\6 th sem\\\\mmdp\\\\Assignment\\\\Dataset\\\\Sai Baba God\\\\download_log.txt'\n",
      "Dataset/Vishwakarma God/download_log.txt\n",
      "---------------------\n",
      "Error processing Dataset/Vishwakarma God\\download_log.txt: cannot identify image file 'D:\\\\imp files own\\\\6 th sem\\\\mmdp\\\\Assignment\\\\Dataset\\\\Vishwakarma God\\\\download_log.txt'\n",
      "Dataset/Durga Goddess/download_log.txt\n",
      "---------------------\n",
      "Error processing Dataset/Durga Goddess\\download_log.txt: cannot identify image file 'D:\\\\imp files own\\\\6 th sem\\\\mmdp\\\\Assignment\\\\Dataset\\\\Durga Goddess\\\\download_log.txt'\n",
      "Dataset/Kali Goddess/download_log.txt\n",
      "---------------------\n",
      "Error processing Dataset/Kali Goddess\\download_log.txt: cannot identify image file 'D:\\\\imp files own\\\\6 th sem\\\\mmdp\\\\Assignment\\\\Dataset\\\\Kali Goddess\\\\download_log.txt'\n",
      "Dataset/Lakshmi Goddess/download_log.txt\n",
      "---------------------\n",
      "Error processing Dataset/Lakshmi Goddess\\download_log.txt: cannot identify image file 'D:\\\\imp files own\\\\6 th sem\\\\mmdp\\\\Assignment\\\\Dataset\\\\Lakshmi Goddess\\\\download_log.txt'\n",
      "Dataset/Saraswati Goddess/download_log.txt\n",
      "---------------------\n",
      "Error processing Dataset/Saraswati Goddess\\download_log.txt: cannot identify image file 'D:\\\\imp files own\\\\6 th sem\\\\mmdp\\\\Assignment\\\\Dataset\\\\Saraswati Goddess\\\\download_log.txt'\n",
      "Dataset/Meenakshi Goddess/download_log.txt\n",
      "---------------------\n",
      "Error processing Dataset/Meenakshi Goddess\\download_log.txt: cannot identify image file 'D:\\\\imp files own\\\\6 th sem\\\\mmdp\\\\Assignment\\\\Dataset\\\\Meenakshi Goddess\\\\download_log.txt'\n",
      "Metadata file 'metadata.csv' created successfully.\n"
     ]
    }
   ],
   "source": [
    "# Open CSV file in append mode to avoid storing data in memory\n",
    "with open('metadata.csv', 'w', newline='', encoding='utf-8') as csvfile:\n",
    "    writer = csv.writer(csvfile)\n",
    "    writer.writerow(['Category', 'URL', 'Filename', 'Resolution']) \n",
    "    # imp = 0\n",
    "    for category in categories:\n",
    "        log_file, output_dir = download_images(category, 50)\n",
    "        # imp = imp+1\n",
    "        print(log_file)\n",
    "        print(\"---------------------\")\n",
    "        image_urls = extract_urls(log_file)\n",
    "\n",
    "        # Process downloaded images and write directly to CSV\n",
    "        for index, filename in enumerate(os.listdir(output_dir)):\n",
    "            file_path = os.path.join(output_dir, filename)\n",
    "\n",
    "            try:\n",
    "                with Image.open(file_path) as img:\n",
    "                    resolution = f\"{img.width}x{img.height}\"\n",
    "                \n",
    "                # Get corresponding URL (index-1 correction is removed)\n",
    "                image_url = image_urls[index-1] if index <= len(image_urls) else \"URL Not Available\"\n",
    "                \n",
    "                # Write directly to CSV to save RAM\n",
    "                writer.writerow([category, image_url, filename, resolution])\n",
    "\n",
    "            except Exception as e:\n",
    "                print(f\"Error processing {file_path}: {e}\")\n",
    "\n",
    "print(\"Metadata file 'metadata.csv' created successfully.\")\n"
   ]
  },
  {
   "cell_type": "markdown",
   "metadata": {},
   "source": [
    "## challenges in dataset\n",
    "\n",
    "Ambiguous Search Results – Gods like Shiva (Nataraja, Lingam) and Vishnu (Rama, Krishna) appear in multiple forms, making classification inconsistent.\n",
    "\n",
    "Temple & Statue Images – Some gods had more images of temples/statues rather than direct deity depictions (e.g., Dhanvantari mostly showed Ayurveda symbols).\n",
    "\n",
    "Religious Art vs. Realistic Depictions – Many images are digital illustrations rather than real idols, leading to bias in classification (e.g., Hanuman, Kali).\n",
    "\n",
    "Overlapping Features – Gods share similar attributes like multiple arms, halos, seated postures, making differentiation difficult (Durga vs. Lakshmi).\n",
    "\n",
    "Ensuring Clear Categories – Only deities with 50+ distinguishable images were selected to maintain dataset balance and avoid misclassification.\n",
    "\n"
   ]
  },
  {
   "cell_type": "markdown",
   "metadata": {},
   "source": [
    "## Potential Use Cases\n",
    "AI-Powered Recognition – Train models to identify gods from images for automated tagging, temple databases, or educational apps.\n",
    "\n",
    "Augmented Reality for Devotees – AR apps can identify and provide info on deities in temples and museums.\n",
    "\n",
    "AI Spiritual Assistants – Chatbots or apps can answer mythology-related queries based on deity recognition."
   ]
  },
  {
   "cell_type": "code",
   "execution_count": null,
   "metadata": {},
   "outputs": [],
   "source": []
  },
  {
   "cell_type": "code",
   "execution_count": null,
   "metadata": {},
   "outputs": [],
   "source": []
  },
  {
   "cell_type": "code",
   "execution_count": null,
   "metadata": {},
   "outputs": [],
   "source": []
  }
 ],
 "metadata": {
  "kernelspec": {
   "display_name": "labwork",
   "language": "python",
   "name": "python3"
  },
  "language_info": {
   "codemirror_mode": {
    "name": "ipython",
    "version": 3
   },
   "file_extension": ".py",
   "mimetype": "text/x-python",
   "name": "python",
   "nbconvert_exporter": "python",
   "pygments_lexer": "ipython3",
   "version": "3.12.7"
  }
 },
 "nbformat": 4,
 "nbformat_minor": 2
}
